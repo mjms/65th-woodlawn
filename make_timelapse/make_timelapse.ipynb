{
 "cells": [
  {
   "cell_type": "markdown",
   "metadata": {},
   "source": [
    "# Historical Images of 65th St and Woodlawn Ave Community Garden"
   ]
  },
  {
   "attachments": {},
   "cell_type": "markdown",
   "metadata": {},
   "source": [
    "In this notebook, we are going to use Google Earth Engine and the Python package `geemap` to extract images of the garden and create a timelapse `.gif`\n",
    "\n",
    "We will use USDA's National Agriculture Imagery Program (NAIP) dataset"
   ]
  },
  {
   "attachments": {},
   "cell_type": "markdown",
   "metadata": {},
   "source": [
    "### Import Google Earth Engine and `geemap`"
   ]
  },
  {
   "cell_type": "code",
   "execution_count": 3,
   "metadata": {},
   "outputs": [
    {
     "data": {
      "text/html": [
       "<p>To authorize access needed by Earth Engine, open the following\n",
       "        URL in a web browser and follow the instructions:</p>\n",
       "        <p><a href=https://code.earthengine.google.com/client-auth?scopes=https%3A//www.googleapis.com/auth/earthengine%20https%3A//www.googleapis.com/auth/devstorage.full_control&request_id=lgels_p7aLqF8eSFsC-UEwfu28Y6kHVZiquuT6mlTw8&tc=BiwTB6eBXnlk9Mc1GgtaJl-YF-hZ1RHfrIIyCdAr_k0&cc=7EgiCuHiM5QnPQAhwbO9CM57YWVjuyn2mOc-ZyvbHTc>https://code.earthengine.google.com/client-auth?scopes=https%3A//www.googleapis.com/auth/earthengine%20https%3A//www.googleapis.com/auth/devstorage.full_control&request_id=lgels_p7aLqF8eSFsC-UEwfu28Y6kHVZiquuT6mlTw8&tc=BiwTB6eBXnlk9Mc1GgtaJl-YF-hZ1RHfrIIyCdAr_k0&cc=7EgiCuHiM5QnPQAhwbO9CM57YWVjuyn2mOc-ZyvbHTc</a></p>\n",
       "        <p>The authorization workflow will generate a code, which you should paste in the box below.</p>\n",
       "        "
      ],
      "text/plain": [
       "<IPython.core.display.HTML object>"
      ]
     },
     "metadata": {},
     "output_type": "display_data"
    },
    {
     "name": "stdout",
     "output_type": "stream",
     "text": [
      "\n",
      "Successfully saved authorization token.\n"
     ]
    }
   ],
   "source": [
    "import ee\n",
    "# Trigger the authentication flow.\n",
    "ee.Authenticate()\n",
    "# Initialize the library.\n",
    "ee.Initialize()\n"
   ]
  },
  {
   "cell_type": "code",
   "execution_count": 4,
   "metadata": {},
   "outputs": [],
   "source": [
    "import geemap"
   ]
  },
  {
   "attachments": {},
   "cell_type": "markdown",
   "metadata": {},
   "source": [
    "### Import Coordinates"
   ]
  },
  {
   "cell_type": "code",
   "execution_count": 5,
   "metadata": {},
   "outputs": [],
   "source": [
    "import os\n",
    "from os.path import dirname, join as pjoin\n",
    "import json # we are using JSON instead of GeoJSON in this example"
   ]
  },
  {
   "attachments": {},
   "cell_type": "markdown",
   "metadata": {},
   "source": [
    "JSON file `coords.json` is formatted like so:\n",
    "```\n",
    "{\n",
    "  \"<location_name>\": {\n",
    "    \"lon\": <longitude in decimal degrees>,\n",
    "    \"lat\": <latitude in decimal degress>,\n",
    "    \"scale\": <scale in meters>\n",
    "  },\n",
    "    \"<another_location_name>\": {\n",
    "    \"lon\": <longitude in decimal degrees>,\n",
    "    \"lat\": <latitude in decimal degress>,\n",
    "    \"scale\": <scale in meters>\n",
    "  }\n",
    "  ...\n",
    "}\n",
    "```"
   ]
  },
  {
   "cell_type": "code",
   "execution_count": 6,
   "metadata": {},
   "outputs": [],
   "source": [
    "coords_path = \"coords.json\"\n",
    "with open(coords_path, 'r') as coords_file:\n",
    "    coords = json.load(coords_file)\n",
    "\n",
    "output_folder = \"output\""
   ]
  },
  {
   "attachments": {},
   "cell_type": "markdown",
   "metadata": {},
   "source": [
    "## Create NAIP Timelapse"
   ]
  },
  {
   "attachments": {},
   "cell_type": "markdown",
   "metadata": {},
   "source": [
    "### View Location with buffer (indicated by `scale` parameter)\n",
    "validate location and region of interest"
   ]
  },
  {
   "cell_type": "code",
   "execution_count": 7,
   "metadata": {},
   "outputs": [
    {
     "data": {
      "application/vnd.jupyter.widget-view+json": {
       "model_id": "f6ed317e70a7417db44487295864e35a",
       "version_major": 2,
       "version_minor": 0
      },
      "text/plain": [
       "Map(center=[20, 0], controls=(WidgetControl(options=['position', 'transparent_bg'], widget=HBox(children=(Togg…"
      ]
     },
     "metadata": {},
     "output_type": "display_data"
    }
   ],
   "source": [
    "Map = geemap.Map()\n",
    "Map\n",
    "location_name = 'theodore_stone_forest'#'sundown_meadow'#'community_garden'\n",
    "lon = coords[location_name][\"lon\"]\n",
    "lat = coords[location_name][\"lat\"]\n",
    "scale = coords[location_name][\"scale\"]\n",
    "geom_point = ee.Geometry.Point(lon,lat)\n",
    "roi = geom_point.buffer(scale)\n",
    "Map.addLayer(roi)\n",
    "Map.centerObject(roi)\n",
    "Map"
   ]
  },
  {
   "attachments": {},
   "cell_type": "markdown",
   "metadata": {},
   "source": [
    "### Create gif of timelapse"
   ]
  },
  {
   "cell_type": "code",
   "execution_count": 8,
   "metadata": {},
   "outputs": [
    {
     "name": "stdout",
     "output_type": "stream",
     "text": [
      "Generating URL...\n",
      "Downloading GIF image from https://earthengine.googleapis.com/v1alpha/projects/earthengine-legacy/videoThumbnails/4a595372d57c6020403b0dcee85bb82c-1c253519d5d094a0b3a6161ab7ee97dc:getPixels\n",
      "Please wait ...\n",
      "The GIF image has been saved to: c:\\Users\\marin\\Documents\\_MJMS\\Dev\\65th-woodlawn\\get-satellite-images\\output\\theodore_stone_forest-600m-naip.gif\n",
      "ffmpeg is not installed on your computer.\n",
      "[WinError 32] The process cannot access the file because it is being used by another process: 'C:\\\\Users\\\\marin\\\\AppData\\\\Local\\\\Temp\\\\theodore_stone_forest-600m-naip'\n"
     ]
    },
    {
     "data": {
      "application/vnd.jupyter.widget-view+json": {
       "model_id": "310830111e1c4c66b1b2a53f034211af",
       "version_major": 2,
       "version_minor": 0
      },
      "text/plain": [
       "Output()"
      ]
     },
     "metadata": {},
     "output_type": "display_data"
    }
   ],
   "source": [
    "im_col = geemap.naip_timeseries(roi,start_year=2005,RGBN=True)\n",
    "images = im_col.toList(im_col.size())\n",
    "dates = geemap.image_dates(im_col).getInfo()\n",
    "size = images.size().getInfo()\n",
    "for i in range(size):\n",
    "    image = ee.Image(images.get(i))\n",
    "    Map.addLayer(image, {'bands': ['R','G','B']}, dates[i][:4],shown=False)\n",
    "\n",
    "timelapse = geemap.naip_timelapse(\n",
    "    roi, start_year=2005, out_gif=pjoin(output_folder,f\"{location_name}-{scale}m-naip.gif\"), bands=['R','G','B'], frames_per_second=1,fading=1,)\n",
    "geemap.show_image(timelapse)"
   ]
  },
  {
   "attachments": {},
   "cell_type": "markdown",
   "metadata": {},
   "source": [
    "### NDVI on NAIP\n",
    "Normalized Difference Vegetation Index"
   ]
  },
  {
   "cell_type": "code",
   "execution_count": 12,
   "metadata": {},
   "outputs": [
    {
     "data": {
      "application/vnd.jupyter.widget-view+json": {
       "model_id": "d97de9eef630474cb4285b06d5210fa2",
       "version_major": 2,
       "version_minor": 0
      },
      "text/plain": [
       "Map(center=[41.777406694809436, -87.59572748186986], controls=(WidgetControl(options=['position', 'transparent…"
      ]
     },
     "metadata": {},
     "output_type": "display_data"
    }
   ],
   "source": [
    "# Create a map centered at (lat, lon).\n",
    "Map = geemap.Map(center=[lat,lon], zoom=4)\n",
    "location_name = 'community_garden'\n",
    "lon = coords[location_name][\"lon\"]\n",
    "lat = coords[location_name][\"lat\"]\n",
    "first = (ee.ImageCollection('USDA/NAIP/DOQQ')\n",
    "         .filterBounds(ee.Geometry.Point(lon,lat))\n",
    "         .filterDate('2008-01-01', '2022-12-31')\n",
    "         .sort('CLOUDY_PIXEL_PERCENTAGE')\n",
    "         .first())\n",
    "\n",
    "\n",
    "# Define the visualization parameters.\n",
    "vizParams =  {\n",
    "  min: 0.0,\n",
    "  max: 255.0,\n",
    "}\n",
    "\n",
    "nir = first.select('N')\n",
    "red = first.select('R')\n",
    "ndvi = nir.subtract(red).divide(nir.add(red))\n",
    "vizParams =  {\n",
    "  'min': -1,\n",
    "  'max': 1,\n",
    "  'palette':['blue','white','green']\n",
    "}\n",
    "# Center the map and display the image.\n",
    "Map.setCenter(lon,lat,19) \n",
    "# Map.addLayer(first, vizParams, 'color')\n",
    "Map.addLayer(ndvi, vizParams, 'ndvi')\n",
    "\n",
    "# Display the map.\n",
    "Map"
   ]
  }
 ],
 "metadata": {
  "kernelspec": {
   "display_name": "Python 3",
   "language": "python",
   "name": "python3"
  },
  "language_info": {
   "codemirror_mode": {
    "name": "ipython",
    "version": 3
   },
   "file_extension": ".py",
   "mimetype": "text/x-python",
   "name": "python",
   "nbconvert_exporter": "python",
   "pygments_lexer": "ipython3",
   "version": "3.9.7"
  },
  "orig_nbformat": 4
 },
 "nbformat": 4,
 "nbformat_minor": 2
}
